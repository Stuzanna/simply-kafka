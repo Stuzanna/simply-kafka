{
 "cells": [
  {
   "cell_type": "markdown",
   "metadata": {},
   "source": [
    "\n",
    "Code is from [simple-kafka-python](https://github.com/quixio/simple-kafka-python/tree/main)."
   ]
  },
  {
   "cell_type": "code",
   "execution_count": null,
   "metadata": {},
   "outputs": [],
   "source": [
    "pip install requests quixstreams"
   ]
  },
  {
   "cell_type": "code",
   "execution_count": null,
   "metadata": {},
   "outputs": [],
   "source": [
    "import requests\n",
    "import time\n",
    "import json\n",
    "import logging\n",
    "from quixstreams import Application\n",
    "\n",
    "\n",
    "def get_weather():\n",
    "    response = requests.get(\n",
    "        \"https://api.open-meteo.com/v1/forecast\",\n",
    "        params={\n",
    "            \"latitude\": 51.5,\n",
    "            \"longitude\": -0.11,\n",
    "            \"current\": \"temperature_2m\",\n",
    "        },\n",
    "    )\n",
    "    return response.json()\n",
    "\n",
    "def get_weather_moscow():\n",
    "    response = requests.get(\n",
    "        \"https://api.open-meteo.com/v1/forecast\",\n",
    "        params={\n",
    "            \"latitude\": 55.7,\n",
    "            \"longitude\": 37.62,\n",
    "            \"current\": \"temperature_2m\",\n",
    "        },\n",
    "\n",
    "    )\n",
    "    return response.json()\n",
    "\n",
    "\n",
    "def main():\n",
    "    app = Application(\n",
    "        broker_address=\"localhost:19092\",\n",
    "        loglevel=\"DEBUG\",\n",
    "    )\n",
    "\n",
    "    with app.get_producer() as producer:\n",
    "        while True:\n",
    "            weather = get_weather()\n",
    "            logging.debug(\"Got weather: %s\", weather)\n",
    "            producer.produce(\n",
    "                topic=\"weather_data_demo\",\n",
    "                key=\"London\",\n",
    "                value=json.dumps(weather),\n",
    "                headers= {\"app.name\": \"python-quix\"}\n",
    "            )\n",
    "\n",
    "            weather_moscow=get_weather_moscow()\n",
    "            logging.debug(\"Got weather: %s\", weather_moscow)\n",
    "            producer.produce(\n",
    "                topic=\"weather_data_demo\",\n",
    "                key = \"Moscow\",\n",
    "                value=json.dumps(weather_moscow),\n",
    "                headers= {\"app.name\": \"python-quix\"}\n",
    "            )\n",
    "            logging.info(\"Produced. Sleeping...\")\n",
    "            time.sleep(5)\n",
    "\n",
    "\n",
    "if __name__ == \"__main__\":\n",
    "    logging.basicConfig(level=\"DEBUG\")\n",
    "    main()"
   ]
  }
 ],
 "metadata": {
  "kernelspec": {
   "display_name": "aiven-demo",
   "language": "python",
   "name": "python3"
  },
  "language_info": {
   "codemirror_mode": {
    "name": "ipython",
    "version": 3
   },
   "file_extension": ".py",
   "mimetype": "text/x-python",
   "name": "python",
   "nbconvert_exporter": "python",
   "pygments_lexer": "ipython3",
   "version": "3.11.9"
  }
 },
 "nbformat": 4,
 "nbformat_minor": 2
}
