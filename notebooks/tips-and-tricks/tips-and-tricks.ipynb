{
 "cells": [
  {
   "cell_type": "code",
   "execution_count": null,
   "metadata": {},
   "outputs": [],
   "source": [
    "# get the cwd, to then add paths. Useful for when not finding modules\n",
    "import os\n",
    "os.getcwd() # get the path, to see where looking, hence why can't find your module\n",
    "\n",
    "# now append to that\n",
    "import sys\n",
    "sys.path.append(\"/path/to/your/module\")"
   ]
  }
 ],
 "metadata": {
  "language_info": {
   "name": "python"
  }
 },
 "nbformat": 4,
 "nbformat_minor": 2
}
