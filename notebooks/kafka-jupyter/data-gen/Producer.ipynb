{
 "cells": [
  {
   "cell_type": "markdown",
   "id": "3d85e439",
   "metadata": {},
   "source": [
    "\n",
    "\n",
    "Used `pip` here as assumed connecting to a local jupyter server, if using own environment then have your own env command to have `kafka-python` installed. This works for the pip env as defined in `envs/pip-venvs/requirements-aiven-demo.txt`\n",
    "\n",
    "Conda might not work, had some issue with the version of kafka-python and didn't want to get into debugging."
   ]
  },
  {
   "cell_type": "code",
   "execution_count": null,
   "id": "3221d351",
   "metadata": {},
   "outputs": [],
   "source": [
    "%%bash\n",
    "pip install kafka-python"
   ]
  },
  {
   "cell_type": "code",
   "execution_count": null,
   "id": "0ce2fae2",
   "metadata": {},
   "outputs": [],
   "source": [
    "import json\n",
    "from kafka import KafkaProducer"
   ]
  },
  {
   "cell_type": "code",
   "execution_count": null,
   "id": "c289f2e3",
   "metadata": {},
   "outputs": [],
   "source": [
    "# folderName = \"~/kafkaCerts/kafka-pizza/\"\n",
    "producer = KafkaProducer(\n",
    "    bootstrap_servers=\"redpanda-0:9092\",\n",
    "    # security_protocol=\"SSL\",\n",
    "    # ssl_cafile=folderName+\"ca.pem\",\n",
    "    # ssl_certfile=folderName+\"service.cert\",\n",
    "    # ssl_keyfile=folderName+\"service.key\",\n",
    "    value_serializer=lambda v: json.dumps(v).encode('ascii'),\n",
    "    key_serializer=lambda v: json.dumps(v).encode('ascii')\n",
    "\n",
    ")"
   ]
  },
  {
   "cell_type": "code",
   "execution_count": null,
   "id": "f8de832e",
   "metadata": {},
   "outputs": [],
   "source": [
    "producer.send(\"test-topic\",\n",
    "                key={\"key\": 1},\n",
    "                value={\"message\": \"hello world\"}\n",
    "            )\n",
    "producer.flush()"
   ]
  },
  {
   "cell_type": "markdown",
   "id": "7bb82e4f",
   "metadata": {},
   "source": [
    "# Create a data generator using Faker\n",
    "[Faker](https://faker.readthedocs.io/en/master/) is a Python library.\n",
    "Going to use that now to have better data generation."
   ]
  },
  {
   "cell_type": "code",
   "execution_count": null,
   "id": "c225a7a1",
   "metadata": {},
   "outputs": [],
   "source": [
    "pip install Faker"
   ]
  },
  {
   "cell_type": "code",
   "execution_count": null,
   "id": "60308772",
   "metadata": {},
   "outputs": [],
   "source": [
    "from faker import Faker\n",
    "\n",
    "fake = Faker()"
   ]
  },
  {
   "cell_type": "code",
   "execution_count": null,
   "id": "8d87917a",
   "metadata": {},
   "outputs": [],
   "source": [
    "\n",
    "# message is a tuple\n",
    "message = {\n",
    "    'name': fake.name(),\n",
    "    'address': fake.address(),\n",
    "    'phone': fake.phone_number()\n",
    "}\n",
    "print(message)"
   ]
  },
  {
   "cell_type": "markdown",
   "id": "323ef0dc",
   "metadata": {},
   "source": [
    "## Creating a custom data provider\n",
    "Faker's [standard providers](https://faker.readthedocs.io/en/master/providers.html) do not include a pizza generator, but we can [create our own](https://faker.readthedocs.io/en/master/providers.html)."
   ]
  },
  {
   "cell_type": "code",
   "execution_count": null,
   "id": "3f0fbd7c",
   "metadata": {},
   "outputs": [],
   "source": [
    "import sys\n",
    "sys.path.append(\"/home/jovyan/work/data-gen/\") # add path for below import\n",
    "\n",
    "from pizzaProducer import PizzaProvider # see pizzaProducer.py\n",
    "\n",
    "fake.add_provider(PizzaProvider)\n",
    "\n",
    "for i in range(0,10):\n",
    "    print(fake.pizzaName())\n",
    "    print(fake.pizzaTopping())\n",
    "    print(fake.pizzaShop())\n",
    "    print(\"\\n\")"
   ]
  },
  {
   "cell_type": "markdown",
   "id": "a1bc838f",
   "metadata": {},
   "source": [
    "## Creating an order\n",
    "Name, address, phone number, 1-10 pizzas, 0-5 toppings, randomly generate orderId, return the message and key. Keyed on shop name (to ensure partition assignment)."
   ]
  },
  {
   "cell_type": "code",
   "execution_count": null,
   "id": "70d439e7",
   "metadata": {},
   "outputs": [],
   "source": [
    "import random\n",
    "MAX_PIZZAS_IN_ORDER = 10\n",
    "MAX_ADDITIONAL_TOPPINGS_IN_PIZZA = 5\n",
    "\n",
    "\n",
    "\n",
    "def producePizzaOrder(orderId = 1):\n",
    "    shop = fake.pizzaShop()\n",
    "    pizzas = []\n",
    "    for pizza in range(random.randint(1,MAX_PIZZAS_IN_ORDER)):\n",
    "        toppings = []\n",
    "        for topping in range(random.randint(1,MAX_ADDITIONAL_TOPPINGS_IN_PIZZA)):\n",
    "            toppings.append(fake.pizzaTopping())\n",
    "        pizzas.append({\n",
    "            \"pizzaName\": fake.pizzaName(),\n",
    "            \"additionalToppings\": toppings\n",
    "        })\n",
    "    \n",
    "    message = {\n",
    "        \"id\": orderId,\n",
    "        \"shop\": shop,\n",
    "        \"customerName\": fake.unique.name(),\n",
    "        \"phoneNumber\": fake.unique.phone_number(),\n",
    "        \"address\": fake.unique.address(),\n",
    "        \"pizzas\": pizzas\n",
    "    }\n",
    "\n",
    "    key = shop\n",
    "\n",
    "    return message, key"
   ]
  },
  {
   "cell_type": "code",
   "execution_count": null,
   "id": "4850d8ba",
   "metadata": {},
   "outputs": [],
   "source": [
    "producePizzaOrder(704)"
   ]
  },
  {
   "cell_type": "markdown",
   "id": "86f676e7",
   "metadata": {},
   "source": [
    "# Creating a fake producer"
   ]
  },
  {
   "cell_type": "code",
   "execution_count": null,
   "id": "5e370e4e",
   "metadata": {},
   "outputs": [],
   "source": [
    "import time\n",
    "topic_name = \"stream_test_two\"\n",
    "num_messages = 100\n",
    "i = 0\n",
    "\n",
    "\n",
    "while i < num_messages:\n",
    "    message, key = producePizzaOrder(i)\n",
    "\n",
    "    print(\"Sending: {}\".format(message))\n",
    "\n",
    "    producer.send(\n",
    "        topic_name,\n",
    "        key = key,\n",
    "        value = message\n",
    "                  )\n",
    "    \n",
    "    time.sleep(2)\n",
    "\n",
    "    if (i % num_messages) == 0:\n",
    "        producer.flush()\n",
    "    i = i + 1\n",
    "\n",
    "producer.flush()"
   ]
  }
 ],
 "metadata": {
  "kernelspec": {
   "display_name": "Python 3 (ipykernel)",
   "language": "python",
   "name": "python3"
  },
  "language_info": {
   "codemirror_mode": {
    "name": "ipython",
    "version": 3
   },
   "file_extension": ".py",
   "mimetype": "text/x-python",
   "name": "python",
   "nbconvert_exporter": "python",
   "pygments_lexer": "ipython3",
   "version": "3.11.6"
  }
 },
 "nbformat": 4,
 "nbformat_minor": 5
}
