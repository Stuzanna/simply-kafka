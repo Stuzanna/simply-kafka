{
 "cells": [
  {
   "cell_type": "code",
   "execution_count": null,
   "id": "e06a8fd1-55d6-4286-b5dd-1e01192952de",
   "metadata": {},
   "outputs": [],
   "source": [
    "from kafka import KafkaConsumer\n",
    "import json\n",
    "\n",
    "consumer = KafkaConsumer(\n",
    " bootstrap_servers='redpanda-0:9092',\n",
    " # security_protocol=\"SSL\",\n",
    " # ssl_cafile=\"./ca.pem\",\n",
    " # ssl_certfile=\"./service.cert\",\n",
    " # ssl_keyfile=\"./service.key\",\n",
    " value_deserializer = lambda v: json.loads(v.decode('ascii')), # decode bytes array into a json structure\n",
    " auto_offset_reset='earliest' # default is when joins, latest\n",
    ")"
   ]
  },
  {
   "cell_type": "code",
   "execution_count": null,
   "id": "729b8754-3915-4320-8257-d864d5c6c5d4",
   "metadata": {},
   "outputs": [],
   "source": [
    "consumer.subscribe(topics='hotel-booking-request')\n",
    "for message in consumer:\n",
    "  print (\"%d:%d: v=%s\" % (message.partition,\n",
    "                          message.offset,\n",
    "                          message.value))"
   ]
  }
 ],
 "metadata": {
  "kernelspec": {
   "display_name": "Python 3 (ipykernel)",
   "language": "python",
   "name": "python3"
  },
  "language_info": {
   "codemirror_mode": {
    "name": "ipython",
    "version": 3
   },
   "file_extension": ".py",
   "mimetype": "text/x-python",
   "name": "python",
   "nbconvert_exporter": "python",
   "pygments_lexer": "ipython3",
   "version": "3.11.6"
  }
 },
 "nbformat": 4,
 "nbformat_minor": 5
}
