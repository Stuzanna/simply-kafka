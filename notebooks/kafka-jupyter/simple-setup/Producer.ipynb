{
 "cells": [
  {
   "cell_type": "code",
   "execution_count": null,
   "id": "b8534409-47c6-442c-91a1-e5be823ebe42",
   "metadata": {},
   "outputs": [],
   "source": [
    "%%bash\n",
    "conda activate aiven-demo # change to your env\n",
    "conda install kafka-python"
   ]
  },
  {
   "cell_type": "code",
   "execution_count": null,
   "id": "b3ec682e-e058-4d0e-99ea-fb20ff0e9129",
   "metadata": {},
   "outputs": [],
   "source": [
    "from kafka import KafkaProducer\n",
    "import json\n",
    "\n",
    "producer = KafkaProducer(\n",
    " bootstrap_servers='redpanda-0:9092',\n",
    " # security_protocol=\"SSL\", # boilerplate for connecting to Aiven cluster\n",
    " # ssl_cafile=\"./ca.pem\",\n",
    " # ssl_certfile=\"./service.cert\",\n",
    " # ssl_keyfile=\"./service.key\",\n",
    " value_serializer=lambda v: json.dumps(v).encode('ascii') # take json value, v, encode into a bytes array (string?)\n",
    ")"
   ]
  },
  {
   "cell_type": "code",
   "execution_count": null,
   "id": "b86e3881-1c08-4c6b-983c-c17628eb7a8e",
   "metadata": {},
   "outputs": [],
   "source": [
    "# topic = hotel-booking-request\n",
    "producer.send(\n",
    " 'hotel-booking-request',\n",
    " value=\n",
    "    {\n",
    "     \"name\": \"Giuseppe Rossi\",\n",
    "     \"hotel\": \"Luxury Hotel\",\n",
    "     \"dateFrom\": \"25-06-2021\",\n",
    "     \"dateTo\": \"07-07-2021\",  \n",
    "     \"details\": \"I want the best room 😀😀😀😀😀!!!!\"\n",
    "     }\n",
    ")\n",
    "producer.flush()"
   ]
  },
  {
   "cell_type": "code",
   "execution_count": null,
   "id": "43464445-85b9-49b4-ac86-aa8c34a74bbe",
   "metadata": {},
   "outputs": [],
   "source": [
    "producer.send(\n",
    " 'hotel-booking-request',\n",
    " key=b'Average Hotel',\n",
    " value=\n",
    "    {\n",
    "     \"name\": \"Carlo Bianchi\",\n",
    "     \"hotel\": \"Average Hotel\",\n",
    "     \"dateFrom\": \"12-07-2021\",\n",
    "     \"dateTo\": \"23-07-2021\",  \n",
    "     \"details\": \"Room next to the highway 🚗🚗🚗🚗\"\n",
    "     }\n",
    ")\n",
    "producer.flush()"
   ]
  }
 ],
 "metadata": {
  "kernelspec": {
   "display_name": "Python 3 (ipykernel)",
   "language": "python",
   "name": "python3"
  },
  "language_info": {
   "codemirror_mode": {
    "name": "ipython",
    "version": 3
   },
   "file_extension": ".py",
   "mimetype": "text/x-python",
   "name": "python",
   "nbconvert_exporter": "python",
   "pygments_lexer": "ipython3",
   "version": "3.11.6"
  }
 },
 "nbformat": 4,
 "nbformat_minor": 5
}
