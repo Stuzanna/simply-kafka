{
 "cells": [
  {
   "cell_type": "markdown",
   "metadata": {},
   "source": [
    "\n",
    "Inspired by Quix's [simple-kafka-python](https://github.com/quixio/simple-kafka-python/tree/main)."
   ]
  },
  {
   "cell_type": "markdown",
   "metadata": {},
   "source": [
    "# Main functions below, above is testing it coming together\n",
    "\n",
    "## API docs\n",
    "https://content.tfl.gov.uk/trackernet-data-services-guide-beta.pdf older one I think  \n",
    "https://api-portal.tfl.gov.uk/api-details#api=Line&operation=Line_ArrivalsByPathIds&definition=Tfl-41 from portal"
   ]
  },
  {
   "cell_type": "code",
   "execution_count": null,
   "metadata": {},
   "outputs": [],
   "source": [
    "import requests\n",
    "import time\n",
    "import json\n",
    "\n",
    "\n",
    "def get_stop_point_info(stop_point_name,mode=\"tube\"):\n",
    "    if mode not in [\"tube\", \"bus\"]:\n",
    "        raise ValueError(\"Invalid mode. Mode must be 'tube' or 'bus'.\")\n",
    "    \n",
    "    response = requests.get(\n",
    "        \"https://api.tfl.gov.uk/StopPoint/Search/\" + stop_point_name,\n",
    "        params = {\n",
    "            'app_key': app_key\n",
    "        }\n",
    "    )\n",
    "    response_data = response.json()\n",
    "\n",
    "\n",
    "    results = []\n",
    "\n",
    "\n",
    "    matches = response_data['matches'] # 'matches' is part of the response\n",
    "\n",
    "    for match in matches:\n",
    "        if mode in match['modes']:\n",
    "            results.append({\n",
    "                'name': match['name'],\n",
    "                'id': match['id'],\n",
    "            })\n",
    "    return results\n",
    "\n",
    "\n",
    "def get_tube_arrivals(line_id, stop_point_id, direction, app_key):\n",
    "    url = f\"https://api.tfl.gov.uk/Line/{line_id}/Arrivals/{stop_point_id}\"\n",
    "    response = requests.get(\n",
    "        url,\n",
    "        params = {\n",
    "            'direction': direction,\n",
    "            'app_key': app_key,\n",
    "        }\n",
    "    )\n",
    "    return response.json()"
   ]
  },
  {
   "cell_type": "code",
   "execution_count": null,
   "metadata": {},
   "outputs": [],
   "source": [
    "import os\n",
    "from dotenv import load_dotenv\n",
    "\n",
    "load_dotenv() #load from your .env file\n",
    "app_key = os.getenv('TFL_API_KEY')\n",
    "\n",
    "line_id = \"victoria\"\n",
    "stop_point_id = [id['id'] for id in get_stop_point_info(\"Brixton\")] # gets the id out of the {name, id] result}\n",
    "direction = \"outbound\""
   ]
  },
  {
   "cell_type": "code",
   "execution_count": null,
   "metadata": {},
   "outputs": [],
   "source": [
    "# Testing block\n",
    "\n",
    "response = get_tube_arrivals(line_id, stop_point_id[0], direction, app_key)\n",
    "print(response)"
   ]
  },
  {
   "cell_type": "code",
   "execution_count": null,
   "metadata": {},
   "outputs": [],
   "source": [
    "import logging\n",
    "from quixstreams import Application\n",
    "\n",
    "def main():\n",
    "    app = Application(\n",
    "        broker_address=\"localhost:19092\",\n",
    "        loglevel=\"DEBUG\",\n",
    "    )\n",
    "\n",
    "    with app.get_producer() as producer:\n",
    "        while True:\n",
    "            weather = get_weather()\n",
    "            logging.debug(\"Got weather: %s\", weather)\n",
    "            producer.produce(\n",
    "                topic=\"weather_data_demo\",\n",
    "                key=\"London\",\n",
    "                value=json.dumps(weather),\n",
    "                headers= {\"app.name\": \"python-quix\"}\n",
    "            )\n",
    "\n",
    "            weather_moscow=get_weather_moscow()\n",
    "            logging.debug(\"Got weather: %s\", weather_moscow)\n",
    "            producer.produce(\n",
    "                topic=\"weather_data_demo\",\n",
    "                key = \"Moscow\",\n",
    "                value=json.dumps(weather_moscow),\n",
    "                headers= {\"app.name\": \"python-quix\"}\n",
    "            )\n",
    "            logging.info(\"Produced. Sleeping...\")\n",
    "            time.sleep(5)\n",
    "\n",
    "\n",
    "if __name__ == \"__main__\":\n",
    "    logging.basicConfig(level=\"DEBUG\")\n",
    "    main()"
   ]
  }
 ],
 "metadata": {
  "kernelspec": {
   "display_name": "aiven-demo",
   "language": "python",
   "name": "python3"
  },
  "language_info": {
   "codemirror_mode": {
    "name": "ipython",
    "version": 3
   },
   "file_extension": ".py",
   "mimetype": "text/x-python",
   "name": "python",
   "nbconvert_exporter": "python",
   "pygments_lexer": "ipython3",
   "version": "3.12.4"
  }
 },
 "nbformat": 4,
 "nbformat_minor": 2
}
