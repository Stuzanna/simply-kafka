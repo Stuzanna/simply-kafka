{
 "cells": [
  {
   "cell_type": "markdown",
   "metadata": {},
   "source": [
    "\n",
    "Inspired by Quix's [simple-kafka-python](https://github.com/quixio/simple-kafka-python/tree/main)."
   ]
  },
  {
   "cell_type": "code",
   "execution_count": 28,
   "metadata": {},
   "outputs": [],
   "source": [
    "from dotenv import load_dotenv\n",
    "\n",
    "load_dotenv() #load from your .env file\n",
    "app_key = os.getenv('TFL_API_KEY')\n",
    "\n",
    "line_id = \"victoria\"\n",
    "# stop_point_id = get_stop_point_id(\"Brixton\")\n",
    "direction = \"outbound\""
   ]
  },
  {
   "cell_type": "code",
   "execution_count": 29,
   "metadata": {},
   "outputs": [
    {
     "name": "stdout",
     "output_type": "stream",
     "text": [
      "<Response [200]>\n",
      "{'$type': 'Tfl.Api.Presentation.Entities.SearchResponse, Tfl.Api.Presentation.Entities', 'query': 'Brixton', 'total': 8, 'matches': [{'$type': 'Tfl.Api.Presentation.Entities.MatchedStop, Tfl.Api.Presentation.Entities', 'icsId': '1000031', 'modes': ['national-rail', 'bus', 'tube'], 'zone': '2', 'id': 'HUBBRX', 'name': 'Brixton', 'lat': 51.462961, 'lon': -0.114531}, {'$type': 'Tfl.Api.Presentation.Entities.MatchedStop, Tfl.Api.Presentation.Entities', 'icsId': '1004362', 'topMostParentId': '490G00004362', 'modes': ['bus'], 'id': '490G00004362', 'name': 'Brixton Water Lane', 'lat': 51.456341, 'lon': -0.118328}, {'$type': 'Tfl.Api.Presentation.Entities.MatchedStop, Tfl.Api.Presentation.Entities', 'icsId': '1007526', 'topMostParentId': '490G00007526', 'modes': ['bus'], 'id': '490G00007526', 'name': 'Brixton Academy', 'lat': 51.465238, 'lon': -0.115183}, {'$type': 'Tfl.Api.Presentation.Entities.MatchedStop, Tfl.Api.Presentation.Entities', 'icsId': '1008544', 'topMostParentId': '490G00008544', 'modes': ['bus'], 'id': '490G00008544', 'name': 'Jebb Avenue / Brixton Prison', 'lat': 51.452214, 'lon': -0.121203}, {'$type': 'Tfl.Api.Presentation.Entities.MatchedStop, Tfl.Api.Presentation.Entities', 'icsId': '1014794', 'topMostParentId': '490G00014794', 'modes': ['bus'], 'id': '490G00014794', 'name': 'Brixton Station Road', 'lat': 51.463391, 'lon': -0.108263}, {'$type': 'Tfl.Api.Presentation.Entities.MatchedStop, Tfl.Api.Presentation.Entities', 'icsId': '1015275', 'topMostParentId': '490G00015275', 'modes': ['bus'], 'id': '490G00015275', 'name': 'Brixton Water Lane', 'lat': 51.454582, 'lon': -0.113506}, {'$type': 'Tfl.Api.Presentation.Entities.MatchedStop, Tfl.Api.Presentation.Entities', 'icsId': '1004361', 'topMostParentId': '490G000426', 'modes': ['bus'], 'id': '490G000426', 'name': 'Gresham Road / Brixton Police Station', 'lat': 51.465018, 'lon': -0.113292}, {'$type': 'Tfl.Api.Presentation.Entities.MatchedStop, Tfl.Api.Presentation.Entities', 'icsId': '1007523', 'topMostParentId': '490G000549', 'modes': ['bus'], 'id': '490G000549', 'name': 'Brixton Road / Brixton Police Station', 'lat': 51.465612, 'lon': -0.113872}]}\n"
     ]
    }
   ],
   "source": [
    "import os\n",
    "def get_stop_point_id(stop_point_name):\n",
    "    response = requests.get(\n",
    "        \"https://api.tfl.gov.uk/StopPoint/Search/\" + stop_point_name,\n",
    "        params = {\n",
    "            'app_key': app_key\n",
    "        }\n",
    "    )\n",
    "    print(response)\n",
    "    data = response.json()\n",
    "    print(data)\n",
    "\n",
    "get_stop_point_id(\"Brixton\")"
   ]
  },
  {
   "cell_type": "markdown",
   "metadata": {},
   "source": [
    "# Main functions below, above is testing it coming together\n",
    "\n",
    "## API docs\n",
    "https://content.tfl.gov.uk/trackernet-data-services-guide-beta.pdf older one I think  \n",
    "https://api-portal.tfl.gov.uk/api-details#api=Line&operation=Line_ArrivalsByPathIds&definition=Tfl-41 from portal"
   ]
  },
  {
   "cell_type": "code",
   "execution_count": null,
   "metadata": {},
   "outputs": [],
   "source": [
    "import requests\n",
    "import time\n",
    "import json\n",
    "\n",
    "\n",
    "def get_stop_point_id(stop_point_name):\n",
    "    response = requests.get(\n",
    "        \"https://api.tfl.gov.uk/StopPoint/Search/\" + stop_point_name,\n",
    "        params = {\n",
    "            'app_key': app_key\n",
    "        }\n",
    "    )\n",
    "    data = response.json()\n",
    "    return data\n",
    "    # Extract the stop point ID from the response\n",
    "    # if 'matches' in data and len(data['matches']) > 0:\n",
    "    #     return data['matches'][0]['id']\n",
    "    # else:\n",
    "    #     return None\n",
    "\n",
    "\n",
    "def get_tube_arrivals(line_id, stop_point_id, direction, app_key):\n",
    "    url = f\"https://api.tfl.gov.uk/Line/{line_id}/Arrivals/{stop_point_id}\"\n",
    "    response = requests.get(\n",
    "        url,\n",
    "        params = {\n",
    "            'direction': direction,\n",
    "            'app_key': app_key,\n",
    "        }\n",
    "    )\n",
    "    return response.json()"
   ]
  },
  {
   "cell_type": "code",
   "execution_count": null,
   "metadata": {},
   "outputs": [],
   "source": [
    "from dotenv import load_dotenv\n",
    "\n",
    "load_dotenv() #load from your .env file\n",
    "app_key = os.getenv('TFL_API_KEY')\n",
    "\n",
    "line_id = \"victoria\"\n",
    "stop_point_id = get_stop_point_id(\"Brixton\")\n",
    "direction = \"outbound\""
   ]
  },
  {
   "cell_type": "code",
   "execution_count": null,
   "metadata": {},
   "outputs": [],
   "source": [
    "import logging\n",
    "from quixstreams import Application\n",
    "\n",
    "def main():\n",
    "    app = Application(\n",
    "        broker_address=\"localhost:19092\",\n",
    "        loglevel=\"DEBUG\",\n",
    "    )\n",
    "\n",
    "    with app.get_producer() as producer:\n",
    "        while True:\n",
    "            weather = get_weather()\n",
    "            logging.debug(\"Got weather: %s\", weather)\n",
    "            producer.produce(\n",
    "                topic=\"weather_data_demo\",\n",
    "                key=\"London\",\n",
    "                value=json.dumps(weather),\n",
    "                headers= {\"app.name\": \"python-quix\"}\n",
    "            )\n",
    "\n",
    "            weather_moscow=get_weather_moscow()\n",
    "            logging.debug(\"Got weather: %s\", weather_moscow)\n",
    "            producer.produce(\n",
    "                topic=\"weather_data_demo\",\n",
    "                key = \"Moscow\",\n",
    "                value=json.dumps(weather_moscow),\n",
    "                headers= {\"app.name\": \"python-quix\"}\n",
    "            )\n",
    "            logging.info(\"Produced. Sleeping...\")\n",
    "            time.sleep(5)\n",
    "\n",
    "\n",
    "if __name__ == \"__main__\":\n",
    "    logging.basicConfig(level=\"DEBUG\")\n",
    "    main()"
   ]
  }
 ],
 "metadata": {
  "kernelspec": {
   "display_name": "aiven-demo",
   "language": "python",
   "name": "python3"
  },
  "language_info": {
   "codemirror_mode": {
    "name": "ipython",
    "version": 3
   },
   "file_extension": ".py",
   "mimetype": "text/x-python",
   "name": "python",
   "nbconvert_exporter": "python",
   "pygments_lexer": "ipython3",
   "version": "3.12.4"
  }
 },
 "nbformat": 4,
 "nbformat_minor": 2
}
