{
 "cells": [
  {
   "cell_type": "markdown",
   "metadata": {},
   "source": [
    "\n",
    "Inspired by Quix's [simple-kafka-python](https://github.com/quixio/simple-kafka-python/tree/main)."
   ]
  },
  {
   "cell_type": "markdown",
   "metadata": {},
   "source": [
    "# TFL Tube Stream\n",
    "\n",
    "## API docs\n",
    "https://content.tfl.gov.uk/trackernet-data-services-guide-beta.pdf older one I think  \n",
    "https://api-portal.tfl.gov.uk/api-details#api=Line&operation=Line_ArrivalsByPathIds&definition=Tfl-41 from portal"
   ]
  },
  {
   "cell_type": "code",
   "execution_count": 44,
   "metadata": {},
   "outputs": [],
   "source": [
    "import requests\n",
    "import json\n",
    "import logging\n",
    "import time\n",
    "\n",
    "logging.basicConfig(level=\"DEBUG\")\n",
    "\n",
    "def get_stop_point_info(stop_point_name,mode=\"tube\"):\n",
    "    if mode not in [\"tube\", \"bus\"]:\n",
    "        raise ValueError(\"Invalid mode. Mode must be 'tube' or 'bus'.\")\n",
    "    \n",
    "    response = requests.get(\n",
    "        \"https://api.tfl.gov.uk/StopPoint/Search/\" + stop_point_name,\n",
    "        params = {\n",
    "            'app_key': app_key\n",
    "        }\n",
    "    )\n",
    "    response_data = response.json()\n",
    "\n",
    "\n",
    "    results = []\n",
    "\n",
    "\n",
    "    matches = response_data['matches'] # 'matches' is part of the response\n",
    "\n",
    "    for match in matches:\n",
    "        if mode in match['modes']:\n",
    "            results.append({\n",
    "                'name': match['name'],\n",
    "                'id': match['id'],\n",
    "            })\n",
    "    return results\n",
    "\n",
    "\n",
    "def get_tube_arrivals(line_id, stop_point_id, direction, app_key, retries=3, backoff=5):\n",
    "    url = f\"https://api.tfl.gov.uk/Line/{line_id}/Arrivals/{stop_point_id}\"\n",
    "    params = {\n",
    "            'direction': direction,\n",
    "            'app_key': app_key,\n",
    "        }\n",
    "    data = {}\n",
    "    for attempt in range(retries):\n",
    "        try:\n",
    "            response = requests.get(url, params)\n",
    "            response.raise_for_status()  # Raise an exception for HTTP errors\n",
    "            data = response.json()\n",
    "\n",
    "            logging.debug(f\"API response: {data}\")\n",
    "            if isinstance(data, list) and len(data) > 0:\n",
    "                return data[0]  \n",
    "            \n",
    "        except requests.exceptions.RequestException as e:\n",
    "            logging.warning(f\"Attempt {attempt+1} returned empty response.\")\n",
    "            time.sleep(backoff * (attempt + 1))  # Exponential backoff\n",
    "\n",
    "    return {'vehicleId': 'N/A', 'stationName': 'N/A'}  # Return default if all retries fail\n"
   ]
  },
  {
   "cell_type": "code",
   "execution_count": 2,
   "metadata": {},
   "outputs": [
    {
     "name": "stdout",
     "output_type": "stream",
     "text": [
      "[{'name': 'Stockwell Underground Station', 'id': '940GZZLUSKW'}]\n"
     ]
    }
   ],
   "source": [
    "import os\n",
    "from dotenv import load_dotenv\n",
    "\n",
    "load_dotenv() #load from your .env file\n",
    "app_key = os.getenv('TFL_API_KEY')\n",
    "\n",
    "stop=\"stockwell\"\n",
    "line_id = \"victoria\"\n",
    "print(get_stop_point_info(stop))\n",
    "stop_point_id = [id['id'] for id in get_stop_point_info(stop)] # gets the id out of the {name, id] result}\n",
    "direction = \"outbound\"\n",
    "\n",
    "sleep_time = 35"
   ]
  },
  {
   "cell_type": "code",
   "execution_count": 29,
   "metadata": {},
   "outputs": [
    {
     "data": {
      "text/plain": [
       "[{'$type': 'Tfl.Api.Presentation.Entities.Prediction, Tfl.Api.Presentation.Entities',\n",
       "  'id': '659974255',\n",
       "  'operationType': 1,\n",
       "  'vehicleId': '210',\n",
       "  'naptanId': '940GZZLUSKW',\n",
       "  'stationName': 'Stockwell Underground Station',\n",
       "  'lineId': 'victoria',\n",
       "  'lineName': 'Victoria',\n",
       "  'platformName': 'Northbound - Platform 1',\n",
       "  'direction': 'outbound',\n",
       "  'bearing': '',\n",
       "  'destinationNaptanId': '940GZZLUWWL',\n",
       "  'destinationName': 'Walthamstow Central Underground Station',\n",
       "  'timestamp': '2024-07-15T17:45:44.8619905Z',\n",
       "  'timeToStation': 81,\n",
       "  'currentLocation': 'Between Brixton and Stockwell',\n",
       "  'towards': 'Walthamstow Central',\n",
       "  'expectedArrival': '2024-07-15T17:47:05Z',\n",
       "  'timeToLive': '2024-07-15T17:47:05Z',\n",
       "  'modeName': 'tube',\n",
       "  'timing': {'$type': 'Tfl.Api.Presentation.Entities.PredictionTiming, Tfl.Api.Presentation.Entities',\n",
       "   'countdownServerAdjustment': '00:00:00',\n",
       "   'source': '0001-01-01T00:00:00',\n",
       "   'insert': '0001-01-01T00:00:00',\n",
       "   'read': '2024-07-15T17:45:41.888Z',\n",
       "   'sent': '2024-07-15T17:45:44Z',\n",
       "   'received': '0001-01-01T00:00:00'}}]"
      ]
     },
     "execution_count": 29,
     "metadata": {},
     "output_type": "execute_result"
    }
   ],
   "source": [
    "tube = get_tube_arrivals(line_id, stop_point_id[0], direction, app_key)\n",
    "tube"
   ]
  },
  {
   "cell_type": "code",
   "execution_count": null,
   "metadata": {},
   "outputs": [],
   "source": [
    "import logging\n",
    "import time\n",
    "from quixstreams import Application\n",
    "\n",
    "def main(): \n",
    "    app = Application(\n",
    "        broker_address=\"localhost:19092\",\n",
    "        loglevel=\"DEBUG\",\n",
    "    )\n",
    "\n",
    "    with app.get_producer() as producer:\n",
    "        while True:\n",
    "            tube = get_tube_arrivals(line_id, stop_point_id[0], direction, app_key)\n",
    "            # vehicleId, stationName, platformName, timestamp, timeToStation, currentLocation, towards\n",
    "            if not tube:\n",
    "                tube = ['N/A']\n",
    "            vehicleId = tube['vehicleId'] if tube else 'N/A'\n",
    "            logging.debug(f\"Got vehicle: {vehicleId}\")\n",
    "            producer.produce(\n",
    "                topic=\"tfl-tubes\",\n",
    "                key=tube['stationName'] if tube else 'N/A',\n",
    "                value=json.dumps(tube),\n",
    "                headers= {\"app.name\": \"python-quix\"}\n",
    "            )\n",
    "            logging.info(f\"Produced. Sleeping for {sleep_time}s...\")\n",
    "            time.sleep(sleep_time)\n",
    "\n",
    "#this for main, won't work in Notebook\n",
    "if __name__ == \"__main__\":\n",
    "    logging.basicConfig(level=\"DEBUG\")\n",
    "    main()"
   ]
  }
 ],
 "metadata": {
  "kernelspec": {
   "display_name": "aiven-demo",
   "language": "python",
   "name": "python3"
  },
  "language_info": {
   "codemirror_mode": {
    "name": "ipython",
    "version": 3
   },
   "file_extension": ".py",
   "mimetype": "text/x-python",
   "name": "python",
   "nbconvert_exporter": "python",
   "pygments_lexer": "ipython3",
   "version": "3.12.4"
  }
 },
 "nbformat": 4,
 "nbformat_minor": 2
}
